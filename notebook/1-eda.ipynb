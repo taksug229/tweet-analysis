{
 "cells": [
  {
   "cell_type": "code",
   "execution_count": 43,
   "metadata": {},
   "outputs": [],
   "source": [
    "import numpy as np\n",
    "import pandas as pd\n",
    "import matplotlib.pyplot as plt\n",
    "import tqdm\n",
    "import sys\n",
    "import glob\n",
    "import os\n",
    "\n",
    "pd.set_option('display.max_columns', None)\n",
    "pd.set_option('display.max_colwidth', None)"
   ]
  },
  {
   "cell_type": "markdown",
   "metadata": {},
   "source": [
    "## Clean Data"
   ]
  },
  {
   "cell_type": "code",
   "execution_count": 21,
   "metadata": {},
   "outputs": [],
   "source": [
    "all_files = glob.glob('../data/*.csv')\n",
    "all_files = sorted(all_files)\n",
    "df = pd.concat([pd.read_csv(files) for files in all_files])\n",
    "df = df.iloc[:, 0:22]"
   ]
  },
  {
   "cell_type": "code",
   "execution_count": 49,
   "metadata": {},
   "outputs": [
    {
     "output_type": "execute_result",
     "data": {
      "text/plain": [
       "               Tweet id  \\\n",
       "27  1356438150915125250   \n",
       "68  1382714917204086793   \n",
       "64  1334134242473771008   \n",
       "2   1300038336539623424   \n",
       "3   1387926835829252097   \n",
       "44  1384300783156350986   \n",
       "2   1189450399729647617   \n",
       "4   1289007689368928257   \n",
       "16  1405686542706765825   \n",
       "52  1195917841725186050   \n",
       "\n",
       "                                            Tweet permalink  \\\n",
       "27  https://twitter.com/420_note/status/1356438150915125250   \n",
       "68  https://twitter.com/420_note/status/1382714917204086793   \n",
       "64  https://twitter.com/420_note/status/1334134242473771008   \n",
       "2   https://twitter.com/420_note/status/1300038336539623424   \n",
       "3   https://twitter.com/420_note/status/1387926835829252097   \n",
       "44  https://twitter.com/420_note/status/1384300783156350986   \n",
       "2   https://twitter.com/420_note/status/1189450399729647617   \n",
       "4   https://twitter.com/420_note/status/1289007689368928257   \n",
       "16  https://twitter.com/420_note/status/1405686542706765825   \n",
       "52  https://twitter.com/420_note/status/1195917841725186050   \n",
       "\n",
       "                                                                                                                                                                                                Tweet text  \\\n",
       "27                          今日からオレゴン州で全ての薬物の所持が正式に非犯罪化されました。\\n\\n下記の量を所持してても刑事罰はありません。\\n\\n- ヘロイン1g未満\\n- MDMAの1g未満または5ピル未満\\n- メタンフェタミン2g未満\\n- LSDが40枚未満\\n- シロシビン12g未満\\n- コカイン2g未満\\n\\nhttps://t.co/NNX5eYZiGv   \n",
       "68  @gjmorley NYが嗜好用大麻を合法化した事で、アメリカ在住日本人の80%以上は嗜好大麻が合法な地域で生活してることになりました。医療大麻ではそれが90%。\\n\\nデータは15ある日本の大使館・総領事館・領事事務所に在留届を出してる外務省の統計を元にしています。\\n\\n是非参考にして下さい。\\nhttps://t.co/Y63JbXeFPB https://t.co/i1wzYy7gNY   \n",
       "64                    今日の国連の採決で大麻を最も厳しいSchedule IVからSchedule I へ可決されましたが、日本は反対しています。\\n\\nそれ以外に、大麻チンキをSchedule Iからの除外や、THCが0.2%未満の大麻を麻薬条約から除外する内容など、4つの採決で全て日本は反対しています。。。\\n\\n詳細は↓\\n\\nhttps://t.co/PdNlB8NbYp   \n",
       "2                                                                                              @tenchim_1119 アメリカでは医療目的以外にも人権問題として大麻の規制緩和がなされてます。この際、是非大麻にまつわる社会情勢を知って頂ければ幸いです。\\n\\nhttps://t.co/DVyyq6auLh   \n",
       "3                           カナダで乾燥大麻を使ったvape をテストするための人員を募集してて、それが年収 50,000カナダドル（約443万円）です。\\n\\n年間3週間の有給付きで、乾燥大麻を購入すために毎月 250カナダドル（約2.2万円）が給料とは別に支給されます。\\n\\nhttps://t.co/vHBG3Qgqz7 https://t.co/UBkzFytQyR   \n",
       "44                          幸せな生活を送る事ができるのであれば基本全ての薬物(カフェイン、酒、大麻等)は一切推奨しません。\\n\\nしかし、アメリカ在住日本人の80~90%が嗜好・医療大麻合法州で生活し、アメリカ人の91%が嗜好・医療で大麻が合法化されるべきだと思ってる事を考えると #大麻吸ってみたい と思ってもおかしく無い。 https://t.co/uT0iTsIRfm   \n",
       "2                                          イスラエルの会社が大麻とマジックマッシュルームを組み合わせて、「現在の医薬品では不十分に対処されている病気」の治療の研究をすることを発表しました！\\n両方ともアメリカでSchedule 1 に指定されている物を、このような形で研究ができるイスラエルはすごいの一言！\\n\\nhttps://t.co/X8q1tXkt7n   \n",
       "4                                    速報！\\n\\n嗜好大麻を合法化してる州に対して予算を使って取り締まる事を禁止する案に、下院議会が通りました！問題は共和党の上院ですが「小さな政府」が根本思想にあるので是非通して欲しい。\\n\\n連邦議会が大麻の規制緩和に賛成したのは、昨年のSTATES Actに続き、史上2回目。\\n https://t.co/7TeqDdgIlW   \n",
       "16                               人口356万人のConnecticutが19州目の嗜好大麻合法州になりました👏㊗️\\n\\n来月から外出時に42gの所持、自宅・社内では141gの所持、6株までの栽培が合法になり、2022年5月から販売が開始されます。\\n\\nNJが去年合法してから、NY・CTのトライステイトの動きが早い！\\nhttps://t.co/cukxc1smxC   \n",
       "52                                    キターーー！！\\n\\n大麻をScheduleの規制薬物から外し（=連邦法の管理下に置かないので実質「合法化」）、薬物戦争の被害者のための支援金を確保し、大麻が連邦政府のSecurity Clearanceの項目から外される法案「MORE Act」が下院議会に紹介されました！\\n\\nhttps://t.co/kgh9wJI4HN   \n",
       "\n",
       "                      time  impressions  engagements  engagement rate  \\\n",
       "27  2021-02-02 03:03 +0000     266019.0      16831.0         0.063270   \n",
       "68  2021-04-15 15:18 +0000     119087.0       1689.0         0.014183   \n",
       "64  2020-12-02 13:56 +0000     110146.0       2697.0         0.024486   \n",
       "2   2020-08-30 11:51 +0000     102446.0        946.0         0.009234   \n",
       "3   2021-04-30 00:28 +0000      86825.0       6329.0         0.072894   \n",
       "44  2021-04-20 00:20 +0000      86219.0       3090.0         0.035839   \n",
       "2   2019-10-30 07:54 +0000      79998.0       2066.0         0.025826   \n",
       "4   2020-07-31 01:19 +0000      76450.0       1291.0         0.016887   \n",
       "16  2021-06-18 00:39 +0000      72998.0       1376.0         0.018850   \n",
       "52  2019-11-17 04:13 +0000      67968.0       1867.0         0.027469   \n",
       "\n",
       "    retweets  replies   likes  user profile clicks  url clicks  \\\n",
       "27     528.0      6.0  1315.0               1216.0      1595.0   \n",
       "68      25.0      1.0    57.0                 61.0        35.0   \n",
       "64      61.0      4.0   176.0                228.0       883.0   \n",
       "2        4.0      1.0    13.0                188.0       131.0   \n",
       "3      178.0      4.0   602.0                258.0       961.0   \n",
       "44      36.0      0.0   113.0                149.0        28.0   \n",
       "2      202.0      6.0   687.0                298.0       488.0   \n",
       "4       44.0      2.0   131.0                159.0        86.0   \n",
       "16     110.0      3.0   316.0                126.0       109.0   \n",
       "52     188.0      1.0   458.0                380.0       372.0   \n",
       "\n",
       "    hashtag clicks  detail expands  permalink clicks  app opens  app installs  \\\n",
       "27             0.0         12112.0               0.0          0             0   \n",
       "68             0.0           527.0               0.0          0             0   \n",
       "64             0.0          1345.0               0.0          0             0   \n",
       "2              0.0           609.0               0.0          0             0   \n",
       "3              0.0          2584.0               0.0          0             0   \n",
       "44           114.0           195.0               0.0          0             0   \n",
       "2              0.0           384.0               0.0          0             0   \n",
       "4              0.0           869.0               0.0          0             0   \n",
       "16             0.0           712.0               0.0          0             0   \n",
       "52             0.0           467.0               0.0          0             0   \n",
       "\n",
       "    follows  email tweet  dial phone  media views  media engagements  \n",
       "27        2            0           0           57                 57  \n",
       "68        0            0           0          983                983  \n",
       "64        0            0           0            0                  0  \n",
       "2         0            0           0            0                  0  \n",
       "3         0            0           0         1742               1742  \n",
       "44        0            0           0         2455               2455  \n",
       "2         1            0           0            0                  0  \n",
       "4         0            0           0            0                  0  \n",
       "16        0            0           0            0                  0  \n",
       "52        1            0           0            0                  0  "
      ],
      "text/html": "<div>\n<style scoped>\n    .dataframe tbody tr th:only-of-type {\n        vertical-align: middle;\n    }\n\n    .dataframe tbody tr th {\n        vertical-align: top;\n    }\n\n    .dataframe thead th {\n        text-align: right;\n    }\n</style>\n<table border=\"1\" class=\"dataframe\">\n  <thead>\n    <tr style=\"text-align: right;\">\n      <th></th>\n      <th>Tweet id</th>\n      <th>Tweet permalink</th>\n      <th>Tweet text</th>\n      <th>time</th>\n      <th>impressions</th>\n      <th>engagements</th>\n      <th>engagement rate</th>\n      <th>retweets</th>\n      <th>replies</th>\n      <th>likes</th>\n      <th>user profile clicks</th>\n      <th>url clicks</th>\n      <th>hashtag clicks</th>\n      <th>detail expands</th>\n      <th>permalink clicks</th>\n      <th>app opens</th>\n      <th>app installs</th>\n      <th>follows</th>\n      <th>email tweet</th>\n      <th>dial phone</th>\n      <th>media views</th>\n      <th>media engagements</th>\n    </tr>\n  </thead>\n  <tbody>\n    <tr>\n      <th>27</th>\n      <td>1356438150915125250</td>\n      <td>https://twitter.com/420_note/status/1356438150915125250</td>\n      <td>今日からオレゴン州で全ての薬物の所持が正式に非犯罪化されました。\\n\\n下記の量を所持してても刑事罰はありません。\\n\\n- ヘロイン1g未満\\n- MDMAの1g未満または5ピル未満\\n- メタンフェタミン2g未満\\n- LSDが40枚未満\\n- シロシビン12g未満\\n- コカイン2g未満\\n\\nhttps://t.co/NNX5eYZiGv</td>\n      <td>2021-02-02 03:03 +0000</td>\n      <td>266019.0</td>\n      <td>16831.0</td>\n      <td>0.063270</td>\n      <td>528.0</td>\n      <td>6.0</td>\n      <td>1315.0</td>\n      <td>1216.0</td>\n      <td>1595.0</td>\n      <td>0.0</td>\n      <td>12112.0</td>\n      <td>0.0</td>\n      <td>0</td>\n      <td>0</td>\n      <td>2</td>\n      <td>0</td>\n      <td>0</td>\n      <td>57</td>\n      <td>57</td>\n    </tr>\n    <tr>\n      <th>68</th>\n      <td>1382714917204086793</td>\n      <td>https://twitter.com/420_note/status/1382714917204086793</td>\n      <td>@gjmorley NYが嗜好用大麻を合法化した事で、アメリカ在住日本人の80%以上は嗜好大麻が合法な地域で生活してることになりました。医療大麻ではそれが90%。\\n\\nデータは15ある日本の大使館・総領事館・領事事務所に在留届を出してる外務省の統計を元にしています。\\n\\n是非参考にして下さい。\\nhttps://t.co/Y63JbXeFPB https://t.co/i1wzYy7gNY</td>\n      <td>2021-04-15 15:18 +0000</td>\n      <td>119087.0</td>\n      <td>1689.0</td>\n      <td>0.014183</td>\n      <td>25.0</td>\n      <td>1.0</td>\n      <td>57.0</td>\n      <td>61.0</td>\n      <td>35.0</td>\n      <td>0.0</td>\n      <td>527.0</td>\n      <td>0.0</td>\n      <td>0</td>\n      <td>0</td>\n      <td>0</td>\n      <td>0</td>\n      <td>0</td>\n      <td>983</td>\n      <td>983</td>\n    </tr>\n    <tr>\n      <th>64</th>\n      <td>1334134242473771008</td>\n      <td>https://twitter.com/420_note/status/1334134242473771008</td>\n      <td>今日の国連の採決で大麻を最も厳しいSchedule IVからSchedule I へ可決されましたが、日本は反対しています。\\n\\nそれ以外に、大麻チンキをSchedule Iからの除外や、THCが0.2%未満の大麻を麻薬条約から除外する内容など、4つの採決で全て日本は反対しています。。。\\n\\n詳細は↓\\n\\nhttps://t.co/PdNlB8NbYp</td>\n      <td>2020-12-02 13:56 +0000</td>\n      <td>110146.0</td>\n      <td>2697.0</td>\n      <td>0.024486</td>\n      <td>61.0</td>\n      <td>4.0</td>\n      <td>176.0</td>\n      <td>228.0</td>\n      <td>883.0</td>\n      <td>0.0</td>\n      <td>1345.0</td>\n      <td>0.0</td>\n      <td>0</td>\n      <td>0</td>\n      <td>0</td>\n      <td>0</td>\n      <td>0</td>\n      <td>0</td>\n      <td>0</td>\n    </tr>\n    <tr>\n      <th>2</th>\n      <td>1300038336539623424</td>\n      <td>https://twitter.com/420_note/status/1300038336539623424</td>\n      <td>@tenchim_1119 アメリカでは医療目的以外にも人権問題として大麻の規制緩和がなされてます。この際、是非大麻にまつわる社会情勢を知って頂ければ幸いです。\\n\\nhttps://t.co/DVyyq6auLh</td>\n      <td>2020-08-30 11:51 +0000</td>\n      <td>102446.0</td>\n      <td>946.0</td>\n      <td>0.009234</td>\n      <td>4.0</td>\n      <td>1.0</td>\n      <td>13.0</td>\n      <td>188.0</td>\n      <td>131.0</td>\n      <td>0.0</td>\n      <td>609.0</td>\n      <td>0.0</td>\n      <td>0</td>\n      <td>0</td>\n      <td>0</td>\n      <td>0</td>\n      <td>0</td>\n      <td>0</td>\n      <td>0</td>\n    </tr>\n    <tr>\n      <th>3</th>\n      <td>1387926835829252097</td>\n      <td>https://twitter.com/420_note/status/1387926835829252097</td>\n      <td>カナダで乾燥大麻を使ったvape をテストするための人員を募集してて、それが年収 50,000カナダドル（約443万円）です。\\n\\n年間3週間の有給付きで、乾燥大麻を購入すために毎月 250カナダドル（約2.2万円）が給料とは別に支給されます。\\n\\nhttps://t.co/vHBG3Qgqz7 https://t.co/UBkzFytQyR</td>\n      <td>2021-04-30 00:28 +0000</td>\n      <td>86825.0</td>\n      <td>6329.0</td>\n      <td>0.072894</td>\n      <td>178.0</td>\n      <td>4.0</td>\n      <td>602.0</td>\n      <td>258.0</td>\n      <td>961.0</td>\n      <td>0.0</td>\n      <td>2584.0</td>\n      <td>0.0</td>\n      <td>0</td>\n      <td>0</td>\n      <td>0</td>\n      <td>0</td>\n      <td>0</td>\n      <td>1742</td>\n      <td>1742</td>\n    </tr>\n    <tr>\n      <th>44</th>\n      <td>1384300783156350986</td>\n      <td>https://twitter.com/420_note/status/1384300783156350986</td>\n      <td>幸せな生活を送る事ができるのであれば基本全ての薬物(カフェイン、酒、大麻等)は一切推奨しません。\\n\\nしかし、アメリカ在住日本人の80~90%が嗜好・医療大麻合法州で生活し、アメリカ人の91%が嗜好・医療で大麻が合法化されるべきだと思ってる事を考えると #大麻吸ってみたい と思ってもおかしく無い。 https://t.co/uT0iTsIRfm</td>\n      <td>2021-04-20 00:20 +0000</td>\n      <td>86219.0</td>\n      <td>3090.0</td>\n      <td>0.035839</td>\n      <td>36.0</td>\n      <td>0.0</td>\n      <td>113.0</td>\n      <td>149.0</td>\n      <td>28.0</td>\n      <td>114.0</td>\n      <td>195.0</td>\n      <td>0.0</td>\n      <td>0</td>\n      <td>0</td>\n      <td>0</td>\n      <td>0</td>\n      <td>0</td>\n      <td>2455</td>\n      <td>2455</td>\n    </tr>\n    <tr>\n      <th>2</th>\n      <td>1189450399729647617</td>\n      <td>https://twitter.com/420_note/status/1189450399729647617</td>\n      <td>イスラエルの会社が大麻とマジックマッシュルームを組み合わせて、「現在の医薬品では不十分に対処されている病気」の治療の研究をすることを発表しました！\\n両方ともアメリカでSchedule 1 に指定されている物を、このような形で研究ができるイスラエルはすごいの一言！\\n\\nhttps://t.co/X8q1tXkt7n</td>\n      <td>2019-10-30 07:54 +0000</td>\n      <td>79998.0</td>\n      <td>2066.0</td>\n      <td>0.025826</td>\n      <td>202.0</td>\n      <td>6.0</td>\n      <td>687.0</td>\n      <td>298.0</td>\n      <td>488.0</td>\n      <td>0.0</td>\n      <td>384.0</td>\n      <td>0.0</td>\n      <td>0</td>\n      <td>0</td>\n      <td>1</td>\n      <td>0</td>\n      <td>0</td>\n      <td>0</td>\n      <td>0</td>\n    </tr>\n    <tr>\n      <th>4</th>\n      <td>1289007689368928257</td>\n      <td>https://twitter.com/420_note/status/1289007689368928257</td>\n      <td>速報！\\n\\n嗜好大麻を合法化してる州に対して予算を使って取り締まる事を禁止する案に、下院議会が通りました！問題は共和党の上院ですが「小さな政府」が根本思想にあるので是非通して欲しい。\\n\\n連邦議会が大麻の規制緩和に賛成したのは、昨年のSTATES Actに続き、史上2回目。\\n https://t.co/7TeqDdgIlW</td>\n      <td>2020-07-31 01:19 +0000</td>\n      <td>76450.0</td>\n      <td>1291.0</td>\n      <td>0.016887</td>\n      <td>44.0</td>\n      <td>2.0</td>\n      <td>131.0</td>\n      <td>159.0</td>\n      <td>86.0</td>\n      <td>0.0</td>\n      <td>869.0</td>\n      <td>0.0</td>\n      <td>0</td>\n      <td>0</td>\n      <td>0</td>\n      <td>0</td>\n      <td>0</td>\n      <td>0</td>\n      <td>0</td>\n    </tr>\n    <tr>\n      <th>16</th>\n      <td>1405686542706765825</td>\n      <td>https://twitter.com/420_note/status/1405686542706765825</td>\n      <td>人口356万人のConnecticutが19州目の嗜好大麻合法州になりました👏㊗️\\n\\n来月から外出時に42gの所持、自宅・社内では141gの所持、6株までの栽培が合法になり、2022年5月から販売が開始されます。\\n\\nNJが去年合法してから、NY・CTのトライステイトの動きが早い！\\nhttps://t.co/cukxc1smxC</td>\n      <td>2021-06-18 00:39 +0000</td>\n      <td>72998.0</td>\n      <td>1376.0</td>\n      <td>0.018850</td>\n      <td>110.0</td>\n      <td>3.0</td>\n      <td>316.0</td>\n      <td>126.0</td>\n      <td>109.0</td>\n      <td>0.0</td>\n      <td>712.0</td>\n      <td>0.0</td>\n      <td>0</td>\n      <td>0</td>\n      <td>0</td>\n      <td>0</td>\n      <td>0</td>\n      <td>0</td>\n      <td>0</td>\n    </tr>\n    <tr>\n      <th>52</th>\n      <td>1195917841725186050</td>\n      <td>https://twitter.com/420_note/status/1195917841725186050</td>\n      <td>キターーー！！\\n\\n大麻をScheduleの規制薬物から外し（=連邦法の管理下に置かないので実質「合法化」）、薬物戦争の被害者のための支援金を確保し、大麻が連邦政府のSecurity Clearanceの項目から外される法案「MORE Act」が下院議会に紹介されました！\\n\\nhttps://t.co/kgh9wJI4HN</td>\n      <td>2019-11-17 04:13 +0000</td>\n      <td>67968.0</td>\n      <td>1867.0</td>\n      <td>0.027469</td>\n      <td>188.0</td>\n      <td>1.0</td>\n      <td>458.0</td>\n      <td>380.0</td>\n      <td>372.0</td>\n      <td>0.0</td>\n      <td>467.0</td>\n      <td>0.0</td>\n      <td>0</td>\n      <td>0</td>\n      <td>1</td>\n      <td>0</td>\n      <td>0</td>\n      <td>0</td>\n      <td>0</td>\n    </tr>\n  </tbody>\n</table>\n</div>"
     },
     "metadata": {},
     "execution_count": 49
    }
   ],
   "source": [
    "df.sort_values('impressions', ascending=False).head(10)"
   ]
  },
  {
   "cell_type": "code",
   "execution_count": 52,
   "metadata": {},
   "outputs": [
    {
     "output_type": "execute_result",
     "data": {
      "text/plain": [
       "               Tweet id  \\\n",
       "27  1356438150915125250   \n",
       "3   1387926835829252097   \n",
       "21  1392274960299675655   \n",
       "80  1225655024664993793   \n",
       "44  1283780045786329089   \n",
       "44  1384300783156350986   \n",
       "64  1334134242473771008   \n",
       "17  1395197162321973251   \n",
       "13  1198486486074585088   \n",
       "40  1284304500702867456   \n",
       "\n",
       "                                            Tweet permalink  \\\n",
       "27  https://twitter.com/420_note/status/1356438150915125250   \n",
       "3   https://twitter.com/420_note/status/1387926835829252097   \n",
       "21  https://twitter.com/420_note/status/1392274960299675655   \n",
       "80  https://twitter.com/420_note/status/1225655024664993793   \n",
       "44  https://twitter.com/420_note/status/1283780045786329089   \n",
       "44  https://twitter.com/420_note/status/1384300783156350986   \n",
       "64  https://twitter.com/420_note/status/1334134242473771008   \n",
       "17  https://twitter.com/420_note/status/1395197162321973251   \n",
       "13  https://twitter.com/420_note/status/1198486486074585088   \n",
       "40  https://twitter.com/420_note/status/1284304500702867456   \n",
       "\n",
       "                                                                                                                                                                              Tweet text  \\\n",
       "27        今日からオレゴン州で全ての薬物の所持が正式に非犯罪化されました。\\n\\n下記の量を所持してても刑事罰はありません。\\n\\n- ヘロイン1g未満\\n- MDMAの1g未満または5ピル未満\\n- メタンフェタミン2g未満\\n- LSDが40枚未満\\n- シロシビン12g未満\\n- コカイン2g未満\\n\\nhttps://t.co/NNX5eYZiGv   \n",
       "3         カナダで乾燥大麻を使ったvape をテストするための人員を募集してて、それが年収 50,000カナダドル（約443万円）です。\\n\\n年間3週間の有給付きで、乾燥大麻を購入すために毎月 250カナダドル（約2.2万円）が給料とは別に支給されます。\\n\\nhttps://t.co/vHBG3Qgqz7 https://t.co/UBkzFytQyR   \n",
       "21                                                                                                                                ゆうせい荘さんの件が海外メディアに取り上げられました。\\n\\nhttps://t.co/OuN14T1SCK   \n",
       "80                      「大麻で逮捕される世界最悪の地域」の紹介にガッツリ日本が入っています（笑）\\n日本の状況は世界基準でも明らかに異常。\\n\\n「カナダが2018年に合法化した時、日本政府は帰国時に罰則を受ける可能性がある事を示唆し、海外の日本人に大麻と関わらないよう警告する程厳しい」\\n\\nhttps://t.co/lVsDGqv4PE   \n",
       "44                                                                         コカインのストリート価格が世界トップクラスに高い日本に38万人のユーザが入れば、麻薬組織にとっては魅力的な市場です。\\n\\nhttps://t.co/lkzyoKe7jW https://t.co/m9ZgeSYzXb   \n",
       "44        幸せな生活を送る事ができるのであれば基本全ての薬物(カフェイン、酒、大麻等)は一切推奨しません。\\n\\nしかし、アメリカ在住日本人の80~90%が嗜好・医療大麻合法州で生活し、アメリカ人の91%が嗜好・医療で大麻が合法化されるべきだと思ってる事を考えると #大麻吸ってみたい と思ってもおかしく無い。 https://t.co/uT0iTsIRfm   \n",
       "64  今日の国連の採決で大麻を最も厳しいSchedule IVからSchedule I へ可決されましたが、日本は反対しています。\\n\\nそれ以外に、大麻チンキをSchedule Iからの除外や、THCが0.2%未満の大麻を麻薬条約から除外する内容など、4つの採決で全て日本は反対しています。。。\\n\\n詳細は↓\\n\\nhttps://t.co/PdNlB8NbYp   \n",
       "17                                            #クレイジージャーニー 見ました。全体的には編集に問題があると思いました。「ロサンゼルス州」の誤りでさえ修正しないぐらい時間も予算も無かったのか。\\n\\n一番致命的なのはデータで物事を語っていない事かなと思いました。以下に記載↓ https://t.co/XEJEgsLbPg   \n",
       "13                     @takapon_jp 初めまして、サンフランシスコで大麻業界に携わっている日系アメリカ人です。日本語でなるべくわかりやすくこの業界について解説しています。日本で大麻取締法の改正がなぜ進まないかを（長いですが）まとめておりますので、是非ご参考にして頂ければと思います。\\n\\nhttps://t.co/YRI6jE4UEY   \n",
       "40                   THCなどを世界で初めて分離した、「大麻研究の父」のイスラエル人の Mechoulam博士が「EPM301」という新たな合成カンナビノイドの開発に成功したと発表。\\n\\n従来のTHC・CBDより強力で、副作用がほとんど無く吐き気・不安・炎症性疾患の治療になるとのことです。\\n\\nhttps://t.co/FeFncjagzk   \n",
       "\n",
       "                      time  impressions  engagements  engagement rate  \\\n",
       "27  2021-02-02 03:03 +0000     266019.0      16831.0         0.063270   \n",
       "3   2021-04-30 00:28 +0000      86825.0       6329.0         0.072894   \n",
       "21  2021-05-12 00:26 +0000      58297.0       4446.0         0.076265   \n",
       "80  2020-02-07 05:38 +0000      44668.0       3986.0         0.089236   \n",
       "44  2020-07-16 15:06 +0000      11914.0       3239.0         0.271865   \n",
       "44  2021-04-20 00:20 +0000      86219.0       3090.0         0.035839   \n",
       "64  2020-12-02 13:56 +0000     110146.0       2697.0         0.024486   \n",
       "17  2021-05-20 01:58 +0000      19359.0       2454.0         0.126763   \n",
       "13  2019-11-24 06:20 +0000      40352.0       2453.0         0.060790   \n",
       "40  2020-07-18 01:50 +0000      45075.0       2207.0         0.048963   \n",
       "\n",
       "    retweets  replies   likes  user profile clicks  url clicks  \\\n",
       "27     528.0      6.0  1315.0               1216.0      1595.0   \n",
       "3      178.0      4.0   602.0                258.0       961.0   \n",
       "21     105.0      1.0   327.0                223.0      1851.0   \n",
       "80     117.0      1.0   354.0                254.0       854.0   \n",
       "44      15.0      0.0    63.0                131.0        78.0   \n",
       "44      36.0      0.0   113.0                149.0        28.0   \n",
       "64      61.0      4.0   176.0                228.0       883.0   \n",
       "17      35.0      3.0   114.0                110.0        18.0   \n",
       "13      25.0      0.0    89.0                263.0      1957.0   \n",
       "40     122.0      3.0   464.0                232.0       339.0   \n",
       "\n",
       "    hashtag clicks  detail expands  permalink clicks  app opens  app installs  \\\n",
       "27             0.0         12112.0               0.0          0             0   \n",
       "3              0.0          2584.0               0.0          0             0   \n",
       "21             0.0          1939.0               0.0          0             0   \n",
       "80             0.0          2406.0               0.0          0             0   \n",
       "44             0.0           400.0               0.0          0             0   \n",
       "44           114.0           195.0               0.0          0             0   \n",
       "64             0.0          1345.0               0.0          0             0   \n",
       "17            32.0          1320.0               0.0          0             0   \n",
       "13             0.0           119.0               0.0          0             0   \n",
       "40             0.0          1047.0               0.0          0             0   \n",
       "\n",
       "    follows  email tweet  dial phone  media views  media engagements  \n",
       "27        2            0           0           57                 57  \n",
       "3         0            0           0         1742               1742  \n",
       "21        0            0           0            0                  0  \n",
       "80        0            0           0            0                  0  \n",
       "44        0            0           0         2552               2552  \n",
       "44        0            0           0         2455               2455  \n",
       "64        0            0           0            0                  0  \n",
       "17        0            0           0          822                822  \n",
       "13        0            0           0            0                  0  \n",
       "40        0            0           0            0                  0  "
      ],
      "text/html": "<div>\n<style scoped>\n    .dataframe tbody tr th:only-of-type {\n        vertical-align: middle;\n    }\n\n    .dataframe tbody tr th {\n        vertical-align: top;\n    }\n\n    .dataframe thead th {\n        text-align: right;\n    }\n</style>\n<table border=\"1\" class=\"dataframe\">\n  <thead>\n    <tr style=\"text-align: right;\">\n      <th></th>\n      <th>Tweet id</th>\n      <th>Tweet permalink</th>\n      <th>Tweet text</th>\n      <th>time</th>\n      <th>impressions</th>\n      <th>engagements</th>\n      <th>engagement rate</th>\n      <th>retweets</th>\n      <th>replies</th>\n      <th>likes</th>\n      <th>user profile clicks</th>\n      <th>url clicks</th>\n      <th>hashtag clicks</th>\n      <th>detail expands</th>\n      <th>permalink clicks</th>\n      <th>app opens</th>\n      <th>app installs</th>\n      <th>follows</th>\n      <th>email tweet</th>\n      <th>dial phone</th>\n      <th>media views</th>\n      <th>media engagements</th>\n    </tr>\n  </thead>\n  <tbody>\n    <tr>\n      <th>27</th>\n      <td>1356438150915125250</td>\n      <td>https://twitter.com/420_note/status/1356438150915125250</td>\n      <td>今日からオレゴン州で全ての薬物の所持が正式に非犯罪化されました。\\n\\n下記の量を所持してても刑事罰はありません。\\n\\n- ヘロイン1g未満\\n- MDMAの1g未満または5ピル未満\\n- メタンフェタミン2g未満\\n- LSDが40枚未満\\n- シロシビン12g未満\\n- コカイン2g未満\\n\\nhttps://t.co/NNX5eYZiGv</td>\n      <td>2021-02-02 03:03 +0000</td>\n      <td>266019.0</td>\n      <td>16831.0</td>\n      <td>0.063270</td>\n      <td>528.0</td>\n      <td>6.0</td>\n      <td>1315.0</td>\n      <td>1216.0</td>\n      <td>1595.0</td>\n      <td>0.0</td>\n      <td>12112.0</td>\n      <td>0.0</td>\n      <td>0</td>\n      <td>0</td>\n      <td>2</td>\n      <td>0</td>\n      <td>0</td>\n      <td>57</td>\n      <td>57</td>\n    </tr>\n    <tr>\n      <th>3</th>\n      <td>1387926835829252097</td>\n      <td>https://twitter.com/420_note/status/1387926835829252097</td>\n      <td>カナダで乾燥大麻を使ったvape をテストするための人員を募集してて、それが年収 50,000カナダドル（約443万円）です。\\n\\n年間3週間の有給付きで、乾燥大麻を購入すために毎月 250カナダドル（約2.2万円）が給料とは別に支給されます。\\n\\nhttps://t.co/vHBG3Qgqz7 https://t.co/UBkzFytQyR</td>\n      <td>2021-04-30 00:28 +0000</td>\n      <td>86825.0</td>\n      <td>6329.0</td>\n      <td>0.072894</td>\n      <td>178.0</td>\n      <td>4.0</td>\n      <td>602.0</td>\n      <td>258.0</td>\n      <td>961.0</td>\n      <td>0.0</td>\n      <td>2584.0</td>\n      <td>0.0</td>\n      <td>0</td>\n      <td>0</td>\n      <td>0</td>\n      <td>0</td>\n      <td>0</td>\n      <td>1742</td>\n      <td>1742</td>\n    </tr>\n    <tr>\n      <th>21</th>\n      <td>1392274960299675655</td>\n      <td>https://twitter.com/420_note/status/1392274960299675655</td>\n      <td>ゆうせい荘さんの件が海外メディアに取り上げられました。\\n\\nhttps://t.co/OuN14T1SCK</td>\n      <td>2021-05-12 00:26 +0000</td>\n      <td>58297.0</td>\n      <td>4446.0</td>\n      <td>0.076265</td>\n      <td>105.0</td>\n      <td>1.0</td>\n      <td>327.0</td>\n      <td>223.0</td>\n      <td>1851.0</td>\n      <td>0.0</td>\n      <td>1939.0</td>\n      <td>0.0</td>\n      <td>0</td>\n      <td>0</td>\n      <td>0</td>\n      <td>0</td>\n      <td>0</td>\n      <td>0</td>\n      <td>0</td>\n    </tr>\n    <tr>\n      <th>80</th>\n      <td>1225655024664993793</td>\n      <td>https://twitter.com/420_note/status/1225655024664993793</td>\n      <td>「大麻で逮捕される世界最悪の地域」の紹介にガッツリ日本が入っています（笑）\\n日本の状況は世界基準でも明らかに異常。\\n\\n「カナダが2018年に合法化した時、日本政府は帰国時に罰則を受ける可能性がある事を示唆し、海外の日本人に大麻と関わらないよう警告する程厳しい」\\n\\nhttps://t.co/lVsDGqv4PE</td>\n      <td>2020-02-07 05:38 +0000</td>\n      <td>44668.0</td>\n      <td>3986.0</td>\n      <td>0.089236</td>\n      <td>117.0</td>\n      <td>1.0</td>\n      <td>354.0</td>\n      <td>254.0</td>\n      <td>854.0</td>\n      <td>0.0</td>\n      <td>2406.0</td>\n      <td>0.0</td>\n      <td>0</td>\n      <td>0</td>\n      <td>0</td>\n      <td>0</td>\n      <td>0</td>\n      <td>0</td>\n      <td>0</td>\n    </tr>\n    <tr>\n      <th>44</th>\n      <td>1283780045786329089</td>\n      <td>https://twitter.com/420_note/status/1283780045786329089</td>\n      <td>コカインのストリート価格が世界トップクラスに高い日本に38万人のユーザが入れば、麻薬組織にとっては魅力的な市場です。\\n\\nhttps://t.co/lkzyoKe7jW https://t.co/m9ZgeSYzXb</td>\n      <td>2020-07-16 15:06 +0000</td>\n      <td>11914.0</td>\n      <td>3239.0</td>\n      <td>0.271865</td>\n      <td>15.0</td>\n      <td>0.0</td>\n      <td>63.0</td>\n      <td>131.0</td>\n      <td>78.0</td>\n      <td>0.0</td>\n      <td>400.0</td>\n      <td>0.0</td>\n      <td>0</td>\n      <td>0</td>\n      <td>0</td>\n      <td>0</td>\n      <td>0</td>\n      <td>2552</td>\n      <td>2552</td>\n    </tr>\n    <tr>\n      <th>44</th>\n      <td>1384300783156350986</td>\n      <td>https://twitter.com/420_note/status/1384300783156350986</td>\n      <td>幸せな生活を送る事ができるのであれば基本全ての薬物(カフェイン、酒、大麻等)は一切推奨しません。\\n\\nしかし、アメリカ在住日本人の80~90%が嗜好・医療大麻合法州で生活し、アメリカ人の91%が嗜好・医療で大麻が合法化されるべきだと思ってる事を考えると #大麻吸ってみたい と思ってもおかしく無い。 https://t.co/uT0iTsIRfm</td>\n      <td>2021-04-20 00:20 +0000</td>\n      <td>86219.0</td>\n      <td>3090.0</td>\n      <td>0.035839</td>\n      <td>36.0</td>\n      <td>0.0</td>\n      <td>113.0</td>\n      <td>149.0</td>\n      <td>28.0</td>\n      <td>114.0</td>\n      <td>195.0</td>\n      <td>0.0</td>\n      <td>0</td>\n      <td>0</td>\n      <td>0</td>\n      <td>0</td>\n      <td>0</td>\n      <td>2455</td>\n      <td>2455</td>\n    </tr>\n    <tr>\n      <th>64</th>\n      <td>1334134242473771008</td>\n      <td>https://twitter.com/420_note/status/1334134242473771008</td>\n      <td>今日の国連の採決で大麻を最も厳しいSchedule IVからSchedule I へ可決されましたが、日本は反対しています。\\n\\nそれ以外に、大麻チンキをSchedule Iからの除外や、THCが0.2%未満の大麻を麻薬条約から除外する内容など、4つの採決で全て日本は反対しています。。。\\n\\n詳細は↓\\n\\nhttps://t.co/PdNlB8NbYp</td>\n      <td>2020-12-02 13:56 +0000</td>\n      <td>110146.0</td>\n      <td>2697.0</td>\n      <td>0.024486</td>\n      <td>61.0</td>\n      <td>4.0</td>\n      <td>176.0</td>\n      <td>228.0</td>\n      <td>883.0</td>\n      <td>0.0</td>\n      <td>1345.0</td>\n      <td>0.0</td>\n      <td>0</td>\n      <td>0</td>\n      <td>0</td>\n      <td>0</td>\n      <td>0</td>\n      <td>0</td>\n      <td>0</td>\n    </tr>\n    <tr>\n      <th>17</th>\n      <td>1395197162321973251</td>\n      <td>https://twitter.com/420_note/status/1395197162321973251</td>\n      <td>#クレイジージャーニー 見ました。全体的には編集に問題があると思いました。「ロサンゼルス州」の誤りでさえ修正しないぐらい時間も予算も無かったのか。\\n\\n一番致命的なのはデータで物事を語っていない事かなと思いました。以下に記載↓ https://t.co/XEJEgsLbPg</td>\n      <td>2021-05-20 01:58 +0000</td>\n      <td>19359.0</td>\n      <td>2454.0</td>\n      <td>0.126763</td>\n      <td>35.0</td>\n      <td>3.0</td>\n      <td>114.0</td>\n      <td>110.0</td>\n      <td>18.0</td>\n      <td>32.0</td>\n      <td>1320.0</td>\n      <td>0.0</td>\n      <td>0</td>\n      <td>0</td>\n      <td>0</td>\n      <td>0</td>\n      <td>0</td>\n      <td>822</td>\n      <td>822</td>\n    </tr>\n    <tr>\n      <th>13</th>\n      <td>1198486486074585088</td>\n      <td>https://twitter.com/420_note/status/1198486486074585088</td>\n      <td>@takapon_jp 初めまして、サンフランシスコで大麻業界に携わっている日系アメリカ人です。日本語でなるべくわかりやすくこの業界について解説しています。日本で大麻取締法の改正がなぜ進まないかを（長いですが）まとめておりますので、是非ご参考にして頂ければと思います。\\n\\nhttps://t.co/YRI6jE4UEY</td>\n      <td>2019-11-24 06:20 +0000</td>\n      <td>40352.0</td>\n      <td>2453.0</td>\n      <td>0.060790</td>\n      <td>25.0</td>\n      <td>0.0</td>\n      <td>89.0</td>\n      <td>263.0</td>\n      <td>1957.0</td>\n      <td>0.0</td>\n      <td>119.0</td>\n      <td>0.0</td>\n      <td>0</td>\n      <td>0</td>\n      <td>0</td>\n      <td>0</td>\n      <td>0</td>\n      <td>0</td>\n      <td>0</td>\n    </tr>\n    <tr>\n      <th>40</th>\n      <td>1284304500702867456</td>\n      <td>https://twitter.com/420_note/status/1284304500702867456</td>\n      <td>THCなどを世界で初めて分離した、「大麻研究の父」のイスラエル人の Mechoulam博士が「EPM301」という新たな合成カンナビノイドの開発に成功したと発表。\\n\\n従来のTHC・CBDより強力で、副作用がほとんど無く吐き気・不安・炎症性疾患の治療になるとのことです。\\n\\nhttps://t.co/FeFncjagzk</td>\n      <td>2020-07-18 01:50 +0000</td>\n      <td>45075.0</td>\n      <td>2207.0</td>\n      <td>0.048963</td>\n      <td>122.0</td>\n      <td>3.0</td>\n      <td>464.0</td>\n      <td>232.0</td>\n      <td>339.0</td>\n      <td>0.0</td>\n      <td>1047.0</td>\n      <td>0.0</td>\n      <td>0</td>\n      <td>0</td>\n      <td>0</td>\n      <td>0</td>\n      <td>0</td>\n      <td>0</td>\n      <td>0</td>\n    </tr>\n  </tbody>\n</table>\n</div>"
     },
     "metadata": {},
     "execution_count": 52
    }
   ],
   "source": [
    "df.sort_values('engagements', ascending=False).head(10)"
   ]
  },
  {
   "cell_type": "code",
   "execution_count": 53,
   "metadata": {},
   "outputs": [
    {
     "output_type": "execute_result",
     "data": {
      "text/plain": [
       "27    https://twitter.com/420_note/status/1356438150915125250\n",
       "3     https://twitter.com/420_note/status/1387926835829252097\n",
       "21    https://twitter.com/420_note/status/1392274960299675655\n",
       "80    https://twitter.com/420_note/status/1225655024664993793\n",
       "44    https://twitter.com/420_note/status/1283780045786329089\n",
       "44    https://twitter.com/420_note/status/1384300783156350986\n",
       "64    https://twitter.com/420_note/status/1334134242473771008\n",
       "17    https://twitter.com/420_note/status/1395197162321973251\n",
       "13    https://twitter.com/420_note/status/1198486486074585088\n",
       "40    https://twitter.com/420_note/status/1284304500702867456\n",
       "Name: Tweet permalink, dtype: object"
      ]
     },
     "metadata": {},
     "execution_count": 53
    }
   ],
   "source": [
    "df.sort_values('engagements', ascending=False).head(10)['Tweet permalink']"
   ]
  },
  {
   "cell_type": "code",
   "execution_count": null,
   "metadata": {},
   "outputs": [],
   "source": []
  }
 ],
 "metadata": {
  "kernelspec": {
   "name": "python3",
   "display_name": "Python 3.8.5 64-bit ('venv': venv)"
  },
  "language_info": {
   "codemirror_mode": {
    "name": "ipython",
    "version": 3
   },
   "file_extension": ".py",
   "mimetype": "text/x-python",
   "name": "python",
   "nbconvert_exporter": "python",
   "pygments_lexer": "ipython3",
   "version": "3.8.5"
  },
  "interpreter": {
   "hash": "9fa929cee3d7dcf6d067850992a245da5d5e79df0a86c3a9eacbc7c1899ec5ed"
  }
 },
 "nbformat": 4,
 "nbformat_minor": 4
}